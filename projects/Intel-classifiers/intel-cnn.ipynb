{
 "cells": [
  {
   "cell_type": "markdown",
   "id": "ed6a86fe",
   "metadata": {},
   "source": [
    "# Dataset Selection and Information\n",
    "\n",
    "I chose to work with the **Intel Image Classification Dataset** available on Kaggle.\n",
    "\n",
    "- **Dataset link**: [https://www.kaggle.com/datasets/puneet6060/intel-image-classification](https://www.kaggle.com/datasets/puneet6060/intel-image-classification)\n",
    "- **Instances**: 25,000+ images\n",
    "- **Classes**: 6 (Buildings, Forest, Glacier, Mountain, Sea, Street)\n",
    "- **Image Size**: 150x150 pixels \n",
    "- **Target**: Multiclass classification  \n",
    "  - `buildings`\n",
    "  - `forest`\n",
    "  - `glacier`\n",
    "  - `mountain`\n",
    "  - `sea`\n",
    "  - `street`\n"
   ]
  }
 ],
 "metadata": {
  "language_info": {
   "name": "python"
  }
 },
 "nbformat": 4,
 "nbformat_minor": 5
}
