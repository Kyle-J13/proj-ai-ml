{
 "cells": [
  {
   "cell_type": "markdown",
   "id": "20f0fa8a",
   "metadata": {},
   "source": [
    "# Dataset Selection and Information\n",
    "\n",
    "I chose to work with the **Human Activity Recognition Using Smartphones dataset** from the UCI Machine Learning Repository.\n",
    "\n",
    "- **Dataset link**: [https://archive.ics.uci.edu/dataset/240/human+activity+recognition+using+smartphones](https://archive.ics.uci.edu/dataset/240/human+activity+recognition+using+smartphones)\n",
    "- **Instances**: 10,299\n",
    "- **Features**: 561 time-series features from accelerometer and gyroscope signals\n",
    "- **Target**: Multiclass classification (6 activities)\n",
    "  - `WALKING`\n",
    "  - `WALKING_UPSTAIRS`\n",
    "  - `WALKING_DOWNSTAIRS`\n",
    "  - `SITTING`\n",
    "  - `STANDING`\n",
    "  - `LAYING`\n",
    "\n",
    "## Why Sequence Models?\n",
    "\n",
    "This dataset contains time-series sensor data collected from smartphones worn by individuals while performing various activites of daily living (ADL's). The temporal relationship between the readings is how we decide on the activity being performed. For example, distinguishing between \"walking\" and \"walking upstairs\" depends on how signal patterns relate to eachother over time, not just on individual measurements. Therefore, a sequence model is apropriate for this challenge.\n",
    "\n",
    "## Chosen Framework\n",
    "\n",
    "For this task, I will use PyTorch because it provides support for building and training sequence models with `nn.LSTM` and `nn.GRU` (see reference [1], see reference [2])\n",
    "\n"
   ]
  },
  {
   "cell_type": "markdown",
   "id": "58899f36",
   "metadata": {},
   "source": [
    "# Data Visualization and Pre-processing\n",
    "\n",
    "The dataset comes pre-processed and conviniently structured (see reference [3]):\n",
    "\n",
    "- Sensor signals (accelerometer and gyroscope) have already been filtered to remove noise.\n",
    "- The signals are segmented into fixed width sliding windows of 2.56 seconds with 50% overlap, resulting in 128 time steps per sample.\n",
    "- From each window, 561 features have been extracted based on both time and frequency domain signals (mean, standard deviation, FFT-based features).\n",
    "- All features are normalized and bounded within `[-1, 1]`\n",
    "\n",
    "The dataset is already split into:\n",
    "- Training set: `train/X_train.txt`, `train/y_train.txt`, `train/subject_train.txt`\n",
    "- Test set: `test/X_test.txt`, `test/y_test.txt`, `test/subject_test.txt`\n",
    "\n",
    "## Remaining Preprocessing Tasks\n",
    "\n",
    "We will still need to:\n",
    "\n",
    "- Convert labels into OHE format for use in classification models (see reference [4]).\n",
    "- Reshape input data to fit the expected format of PyTorch RNN layers (batch_size, sequence_length, input_size).\n",
    "- Visualize class distribution to check for class imbalance.\n",
    "- Create a validation set from the training data (80/20) to evaluate during training.\n"
   ]
  },
  {
   "cell_type": "code",
   "execution_count": null,
   "id": "3fb35521",
   "metadata": {},
   "outputs": [
    {
     "data": {
      "image/png": "[encoded data removed]",
      "text/plain": [
       "<Figure size 800x400 with 1 Axes>"
      ]
     },
     "metadata": {},
     "output_type": "display_data"
    }
   ],
   "source": [
    "import numpy as np\n",
    "import pandas as pd\n",
    "import matplotlib.pyplot as plt\n",
    "from sklearn.model_selection import train_test_split\n",
    "from sklearn.preprocessing import OneHotEncoder\n",
    "\n",
    "# Load the data\n",
    "X_train = np.loadtxt('../data/train/X_train.txt')\n",
    "y_train = np.loadtxt('../data/train/y_train.txt').astype(int)\n",
    "X_test = np.loadtxt('../data/test/X_test.txt')\n",
    "y_test = np.loadtxt('../data/test/y_test.txt').astype(int)\n",
    "\n",
    "# Convert labels to OHE (see reference [4])\n",
    "encoder = OneHotEncoder(sparse_output=False)\n",
    "y_train_oh = encoder.fit_transform(y_train.reshape(-1, 1))\n",
    "y_test_oh = encoder.transform(y_test.reshape(-1, 1))\n",
    "\n",
    "# Reshape input data for PyTorch\n",
    "# Original shape is (n_samples, 561)\n",
    "# Each sample will treated as a sequence of 1 timestep with 561 features so we dont have to do more preprocessing on the data\n",
    "X_train_rnn = X_train.reshape(X_train.shape[0], 1, X_train.shape[1])\n",
    "X_test_rnn = X_test.reshape(X_test.shape[0], 1, X_test.shape[1])\n",
    "\n",
    "# Visualize class distribution\n",
    "unique, counts = np.unique(y_train, return_counts=True)\n",
    "plt.figure(figsize=(8, 4))\n",
    "plt.bar(unique, counts, tick_label=[str(i) for i in unique])\n",
    "plt.title('Class Distribution in Training Set')\n",
    "plt.xlabel('Activity Label')\n",
    "plt.ylabel('Frequency')\n",
    "plt.show()\n",
    "\n",
    "# Create validation set (80/20 split from training data)\n",
    "X_train_rnn, X_val_rnn, y_train_oh, y_val_oh = train_test_split( X_train_rnn, y_train_oh, test_size=0.2, random_state=42, stratify=y_train)\n"
   ]
  },
  {
   "cell_type": "markdown",
   "id": "5b105399",
   "metadata": {},
   "source": [
    "## Class distribution\n",
    "\n",
    "The class distribution appears to be fairly balanced. There should theoretically be no issues with the model prediciting entirely based on class distribution to minimize loss.\n",
    "\n",
    "# RNN implementation \n",
    "\n",
    "structure\n",
    "activation function ss \n",
    "\n"
   ]
  },
  {
   "cell_type": "markdown",
   "id": "bf9e3089",
   "metadata": {},
   "source": [
    "## References\n",
    "\n",
    "1. PyTorch. (n.d.). *torch.nn.LSTM — PyTorch Documentation*.  \n",
    "   Retrieved from https://pytorch.org/docs/stable/generated/torch.nn.LSTM.html\n",
    "\n",
    "2. PyTorch. (n.d.). *torch.nn.GRU — PyTorch Documentation*.  \n",
    "   Retrieved from https://pytorch.org/docs/stable/generated/torch.nn.GRU.html\n",
    "\n",
    "3. Anguita, D., Ghio, A., Oneto, L., Parra, X., & Reyes-Ortiz, J. L. (2013). *A Public Domain Dataset for Human Activity Recognition Using Smartphones*.  \n",
    "   Retrieved from https://archive.ics.uci.edu/dataset/240/human+activity+recognition+using+smartphones\n",
    "\n",
    "4. scikit-learn. (n.d.). *OneHotEncoder — scikit-learn 1.4.2 documentation*.  \n",
    "   Retrieved from https://scikit-learn.org/stable/modules/generated/sklearn.preprocessing.OneHotEncoder.html\n"
   ]
  }
 ],
 "metadata": {
  "kernelspec": {
   "display_name": "ml-pytorch",
   "language": "python",
   "name": "python3"
  },
  "language_info": {
   "codemirror_mode": {
    "name": "ipython",
    "version": 3
   },
   "file_extension": ".py",
   "mimetype": "text/x-python",
   "name": "python",
   "nbconvert_exporter": "python",
   "pygments_lexer": "ipython3",
   "version": "3.12.9"
  }
 },
 "nbformat": 4,
 "nbformat_minor": 5
}
