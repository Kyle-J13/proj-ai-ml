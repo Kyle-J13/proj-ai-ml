{
 "cells": [
  {
   "cell_type": "markdown",
   "id": "20f0fa8a",
   "metadata": {},
   "source": [
    "# Dataset Selection and Information\n",
    "\n",
    "I chose to work with the **Human Activity Recognition Using Smartphones dataset** from the UCI Machine Learning Repository.\n",
    "\n",
    "- **Dataset link**: [https://archive.ics.uci.edu/dataset/240/human+activity+recognition+using+smartphones](https://archive.ics.uci.edu/dataset/240/human+activity+recognition+using+smartphones)\n",
    "- **Instances**: 10,299\n",
    "- **Features**: 561 time-series features from accelerometer and gyroscope signals\n",
    "- **Target**: Multiclass classification (6 activities)\n",
    "  - `WALKING`\n",
    "  - `WALKING_UPSTAIRS`\n",
    "  - `WALKING_DOWNSTAIRS`\n",
    "  - `SITTING`\n",
    "  - `STANDING`\n",
    "  - `LAYING`\n",
    "\n",
    "## Why Sequence Models?\n",
    "\n",
    "This dataset contains time-series sensor data collected from smartphones worn by individuals while performing various activites of daily living (ADL's). The temporal relationship between the readings is how we decide on the activity being performed. For example, distinguishing between \"walking\" and \"walking upstairs\" depends on how signal patterns relate to eachother over time, not just on individual measurements. Therefore, a sequence model is apropriate for this challenge.\n",
    "\n",
    "## Chosen Framework\n",
    "\n",
    "For this task, I will use PyTorch because it provides support for building and training sequence models with `nn.LSTM` and `nn.GRU` (see reference [1], see reference [2])\n",
    "\n"
   ]
  },
  {
   "cell_type": "code",
   "execution_count": null,
   "id": "3fb35521",
   "metadata": {},
   "outputs": [],
   "source": []
  },
  {
   "cell_type": "markdown",
   "id": "bf9e3089",
   "metadata": {},
   "source": [
    "## References\n",
    "\n",
    "1. PyTorch. (n.d.). *torch.nn.LSTM — PyTorch Documentation*.  \n",
    "   Retrieved from https://pytorch.org/docs/stable/generated/torch.nn.LSTM.html\n",
    "\n",
    "2. PyTorch. (n.d.). *torch.nn.GRU — PyTorch Documentation*.  \n",
    "   Retrieved from https://pytorch.org/docs/stable/generated/torch.nn.GRU.html"
   ]
  }
 ],
 "metadata": {
  "kernelspec": {
   "display_name": "ml-pytorch",
   "language": "python",
   "name": "python3"
  },
  "language_info": {
   "name": "python",
   "version": "3.12.9"
  }
 },
 "nbformat": 4,
 "nbformat_minor": 5
}
