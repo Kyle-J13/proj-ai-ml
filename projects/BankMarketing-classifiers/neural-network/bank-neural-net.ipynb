{
 "cells": [
  {
   "cell_type": "markdown",
   "id": "63fba29b",
   "metadata": {},
   "source": [
    "# Dataset Selection and information\n",
    "\n",
    "I chose to work with the **Bank Marketing dataset** from the UCI Machine Learning Repository.\n",
    "\n",
    "- **Dataset link**: [https://archive.ics.uci.edu/dataset/222/bank+marketing](https://archive.ics.uci.edu/dataset/222/bank+marketing)\n",
    "- **Instances**: 41,188\n",
    "- **Features**: 20 (client demographics, campaign history, and contact attributes)\n",
    "- **Target**: Binary classification  \n",
    "  - `yes` = client subscribed to a term deposit  \n",
    "  - `no` = client did not subscribe\n"
   ]
  },
  {
   "cell_type": "markdown",
   "id": "3cd198e8",
   "metadata": {},
   "source": [
    "## Data Preprocessing \n",
    "\n",
    "> Note: I have my own data preprocessing checklist which I used to guide data preprocessing.\n",
    "\n",
    "### Peak data to view structure and catagories"
   ]
  },
  {
   "cell_type": "code",
   "execution_count": 81,
   "id": "06e5ac18",
   "metadata": {},
   "outputs": [
    {
     "name": "stdout",
     "output_type": "stream",
     "text": [
      "Shape: (41188, 21)\n",
      "<class 'pandas.core.frame.DataFrame'>\n",
      "RangeIndex: 41188 entries, 0 to 41187\n",
      "Data columns (total 21 columns):\n",
      " #   Column          Non-Null Count  Dtype  \n",
      "---  ------          --------------  -----  \n",
      " 0   age             41188 non-null  int64  \n",
      " 1   job             41188 non-null  object \n",
      " 2   marital         41188 non-null  object \n",
      " 3   education       41188 non-null  object \n",
      " 4   default         41188 non-null  object \n",
      " 5   housing         41188 non-null  object \n",
      " 6   loan            41188 non-null  object \n",
      " 7   contact         41188 non-null  object \n",
      " 8   month           41188 non-null  object \n",
      " 9   day_of_week     41188 non-null  object \n",
      " 10  duration        41188 non-null  int64  \n",
      " 11  campaign        41188 non-null  int64  \n",
      " 12  pdays           41188 non-null  int64  \n",
      " 13  previous        41188 non-null  int64  \n",
      " 14  poutcome        41188 non-null  object \n",
      " 15  emp.var.rate    41188 non-null  float64\n",
      " 16  cons.price.idx  41188 non-null  float64\n",
      " 17  cons.conf.idx   41188 non-null  float64\n",
      " 18  euribor3m       41188 non-null  float64\n",
      " 19  nr.employed     41188 non-null  float64\n",
      " 20  y               41188 non-null  object \n",
      "dtypes: float64(5), int64(5), object(11)\n",
      "memory usage: 6.6+ MB\n"
     ]
    },
    {
     "data": {
      "text/plain": [
       "age               0\n",
       "job               0\n",
       "marital           0\n",
       "education         0\n",
       "default           0\n",
       "housing           0\n",
       "loan              0\n",
       "contact           0\n",
       "month             0\n",
       "day_of_week       0\n",
       "duration          0\n",
       "campaign          0\n",
       "pdays             0\n",
       "previous          0\n",
       "poutcome          0\n",
       "emp.var.rate      0\n",
       "cons.price.idx    0\n",
       "cons.conf.idx     0\n",
       "euribor3m         0\n",
       "nr.employed       0\n",
       "y                 0\n",
       "dtype: int64"
      ]
     },
     "execution_count": 81,
     "metadata": {},
     "output_type": "execute_result"
    }
   ],
   "source": [
    "import pandas as pd\n",
    "\n",
    "# Load the dataset \n",
    "# Note this data is semicolon sepperated\n",
    "df = pd.read_csv('../data/raw/bank-additional-full.csv', sep=';')\n",
    "\n",
    "# Peak the data so we can get an idea of how it looks\n",
    "print(f\"Shape: {df.shape}\")\n",
    "df.head()\n",
    "\n",
    "# Check data types and nulls\n",
    "df.info()\n",
    "df.isnull().sum()"
   ]
  },
  {
   "cell_type": "markdown",
   "id": "988b5e2e",
   "metadata": {},
   "source": [
    "### Target Converting and Class balance "
   ]
  },
  {
   "cell_type": "code",
   "execution_count": 38,
   "id": "f0b33d83",
   "metadata": {},
   "outputs": [
    {
     "name": "stdout",
     "output_type": "stream",
     "text": [
      "Class distribution:\n",
      "y\n",
      "0    0.887\n",
      "1    0.113\n",
      "Name: proportion, dtype: float64\n"
     ]
    }
   ],
   "source": [
    "# Convert target variable to binary classification\n",
    "df['y'] = df['y'].map({'yes': 1, 'no': 0})\n",
    "\n",
    "# Show updated class balance\n",
    "print(\"Class distribution:\")\n",
    "print(df['y'].value_counts(normalize=True).round(3))"
   ]
  },
  {
   "cell_type": "markdown",
   "id": "cee37892",
   "metadata": {},
   "source": [
    "### Encode Categorical and Normalize Numerical Data"
   ]
  },
  {
   "cell_type": "code",
   "execution_count": 39,
   "id": "e1d6b30c",
   "metadata": {},
   "outputs": [],
   "source": [
    "from sklearn.preprocessing import StandardScaler\n",
    "\n",
    "# Identify categorical and numeric features\n",
    "categorical_cols = df.select_dtypes(include='object').columns.tolist()\n",
    "numerical_cols = df.select_dtypes(include=['int64', 'float64']).columns.drop('y')\n",
    "\n",
    "# One hot encode categoricals\n",
    "# We want to drop the first column to ensure we dont have perfectly correleated columns\n",
    "df = pd.get_dummies(df, columns=categorical_cols, drop_first=True) # See reference [2]\n",
    "\n",
    "# Standardize numeric columns\n",
    "scaler = StandardScaler()\n",
    "df[numerical_cols] = scaler.fit_transform(df[numerical_cols])"
   ]
  },
  {
   "cell_type": "markdown",
   "id": "cb9a6190",
   "metadata": {},
   "source": [
    "### Split and Save Data"
   ]
  },
  {
   "cell_type": "code",
   "execution_count": 40,
   "id": "684b4ab4",
   "metadata": {},
   "outputs": [],
   "source": [
    "from sklearn.model_selection import train_test_split\n",
    "\n",
    "# Split features and target\n",
    "X = df.drop('y', axis=1)\n",
    "y = df['y']\n",
    "\n",
    "# 98% train+val, 2% test splits\n",
    "X_trainval, X_test, y_trainval, y_test = train_test_split(X, y, test_size=0.02, stratify=y, random_state=42)\n",
    "\n",
    "# Save\n",
    "X_trainval.to_csv('../data/cleaned/X_trainval.csv', index=False)\n",
    "y_trainval.to_csv('../data/cleaned/y_trainval.csv', index=False)\n",
    "X_test.to_csv('../data/cleaned/X_test.csv', index=False)\n",
    "y_test.to_csv('../data/cleaned/y_test.csv', index=False)"
   ]
  },
  {
   "cell_type": "markdown",
   "id": "e1bcc129",
   "metadata": {},
   "source": [
    "# Nerual Net Manual Implementation"
   ]
  },
  {
   "cell_type": "code",
   "execution_count": 50,
   "id": "f8b8b84d",
   "metadata": {},
   "outputs": [],
   "source": [
    "# Imports\n",
    "import numpy as np\n",
    "\n",
    "# Class to make simple 1 layer neural network \n",
    "class NeuralNetwork:\n",
    "    # Initialize network structure \n",
    "    def __init__(self, input_size, hidden_size, output_size, learning_rate=0.01, seed=42):\n",
    "        np.random.seed(seed)  \n",
    "        self.learning_rate = learning_rate\n",
    "\n",
    "        # Elected to use scaled random normal weight initalization (See reference [3])\n",
    "        # Initialize weights and biases for hidden layer\n",
    "        self.W1 = np.random.randn(input_size, hidden_size) * 0.01\n",
    "        self.b1 = np.zeros((1, hidden_size))\n",
    "\n",
    "        # Initialize weights and biases for output layer\n",
    "        self.W2 = np.random.randn(hidden_size, output_size) * 0.01\n",
    "        self.b2 = np.zeros((1, output_size))\n",
    "\n",
    "    # Sigmoid activation\n",
    "    def sigmoid(self, z):\n",
    "        z = np.array(z, dtype=np.float64)  # Force z to be a compatable type solution from here: https://stackoverflow.com/questions/18557337/numpy-attributeerror-float-object-has-no-attribute-exp\n",
    "        return 1 / (1 + np.exp(-z))\n",
    "\n",
    "    # Derivative of sigmoid\n",
    "    def sigmoid_derivative(self, a):\n",
    "        return a * (1 - a)\n",
    "\n",
    "    # Forward propagation\n",
    "    def forward_propagation(self, X):\n",
    "        self.Z1 = np.dot(X, self.W1) + self.b1 # input to hidden layer\n",
    "        self.A1 = self.sigmoid(self.Z1) # activation of hidden layer\n",
    "        self.Z2 = np.dot(self.A1, self.W2) + self.b2 # input to output layer\n",
    "        self.A2 = self.sigmoid(self.Z2) # final prediction\n",
    "        return self.A2\n",
    "\n",
    "    # Compute binary cross entropy cost (This equation was derived in HIGGS linear classifiers)\n",
    "    def compute_cost(self, Y_hat, Y):\n",
    "        m = Y.shape[0]  # number of samples\n",
    "        cost = -np.mean(Y * np.log(Y_hat + 1e-8) + (1 - Y) * np.log(1 - Y_hat + 1e-8))\n",
    "        return cost\n",
    "\n",
    "    # Backward propagation \n",
    "    def backward_propagation(self, X, Y, Y_hat):\n",
    "        m = X.shape[0]\n",
    "\n",
    "        # Gradient for output layer\n",
    "        dZ2 = Y_hat - Y\n",
    "        dW2 = (1 / m) * np.dot(self.A1.T, dZ2)\n",
    "        db2 = (1 / m) * np.sum(dZ2, axis=0, keepdims=True) # Note that we need keepdims here so the result keeps its (1 x output size) shape for compatibility with the bias\n",
    "\n",
    "        # Gradient for hidden layer\n",
    "        dA1 = np.dot(dZ2, self.W2.T)\n",
    "        dZ1 = dA1 * self.sigmoid_derivative(self.A1)\n",
    "        dW1 = (1 / m) * np.dot(X.T, dZ1)\n",
    "        db1 = (1 / m) * np.sum(dZ1, axis=0, keepdims=True)\n",
    "\n",
    "        # Update weights and biases VIA gradient descent\n",
    "        self.W1 -= self.learning_rate * dW1\n",
    "        self.b1 -= self.learning_rate * db1\n",
    "        self.W2 -= self.learning_rate * dW2\n",
    "        self.b2 -= self.learning_rate * db2\n",
    "\n",
    "    # Training loop\n",
    "    def train(self, X, Y, epochs=1000):\n",
    "        for i in range(epochs):\n",
    "            Y_hat = self.forward_propagation(X)\n",
    "            cost = self.compute_cost(Y_hat, Y) \n",
    "            self.backward_propagation(X, Y, Y_hat)\n",
    "\n",
    "    # Predict class labels from input\n",
    "    def predict(self, X, threshold = 0.5):\n",
    "        Y_hat = self.forward_propagation(X)\n",
    "        return (Y_hat > threshold).astype(int) # Return array as same shape as Y_hat but with 1 for > treshold and 0 for < treshold\n"
   ]
  },
  {
   "cell_type": "markdown",
   "id": "9b1110e7",
   "metadata": {},
   "source": [
    "## Training Model"
   ]
  },
  {
   "cell_type": "code",
   "execution_count": 71,
   "id": "a8b865c0",
   "metadata": {},
   "outputs": [
    {
     "name": "stdout",
     "output_type": "stream",
     "text": [
      "Accuracy: 0.9052\n",
      "Precision: 0.7009\n",
      "Recall: 0.2762\n",
      "F1 Score: 0.3963\n"
     ]
    }
   ],
   "source": [
    "# Imports\n",
    "import pandas as pd\n",
    "import numpy as np\n",
    "from sklearn.metrics import accuracy_score, precision_score, recall_score, f1_score\n",
    "\n",
    "# Load training/validation data\n",
    "X_trainval = pd.read_csv('../data/cleaned/X_trainval.csv').astype(np.float64).values\n",
    "y_trainval = pd.read_csv('../data/cleaned/y_trainval.csv').astype(np.float64).values.reshape(-1, 1)\n",
    "\n",
    "# Determine input size\n",
    "input_size = X_trainval.shape[1]\n",
    "\n",
    "# Initialize and train neural network\n",
    "nn = NeuralNetwork(input_size=input_size, hidden_size=16, output_size=1, learning_rate=0.1)\n",
    "nn.train(X_trainval, y_trainval, epochs=1000)\n",
    "\n",
    "# Predict on training data\n",
    "y_trainval_pred = nn.predict(X_trainval)\n",
    "\n",
    "# Evaluate metrics\n",
    "accuracy = accuracy_score(y_trainval, y_trainval_pred)\n",
    "precision = precision_score(y_trainval, y_trainval_pred)\n",
    "recall = recall_score(y_trainval, y_trainval_pred)\n",
    "f1 = f1_score(y_trainval, y_trainval_pred)\n",
    "\n",
    "# Print metrics\n",
    "print(f\"Accuracy: {accuracy:.4f}\")\n",
    "print(f\"Precision: {precision:.4f}\")\n",
    "print(f\"Recall: {recall:.4f}\")\n",
    "print(f\"F1 Score: {f1:.4f}\")\n"
   ]
  },
  {
   "cell_type": "markdown",
   "id": "33cdd1eb",
   "metadata": {},
   "source": [
    "### Evaluation\n",
    "\n",
    "As we can see here the recall is very low which indicates the model is missing many true positives (This is expected with our inbalenced data set).     \n",
    "Lets see if we can tune some hyperparameters to increase our preformance."
   ]
  },
  {
   "cell_type": "code",
   "execution_count": 73,
   "id": "7a32525a",
   "metadata": {},
   "outputs": [
    {
     "data": {
      "image/png": "[encoded data removed]",
      "text/plain": [
       "<Figure size 640x480 with 1 Axes>"
      ]
     },
     "metadata": {},
     "output_type": "display_data"
    },
    {
     "name": "stdout",
     "output_type": "stream",
     "text": [
      "Best F1 Score: 0.5926 at Threshold: 0.22\n"
     ]
    }
   ],
   "source": [
    "# This idea was adapted from reference [4]\n",
    "# Imports\n",
    "import numpy as np\n",
    "import matplotlib.pyplot as plt\n",
    "from sklearn.metrics import precision_score, recall_score, f1_score\n",
    "\n",
    "# Predict probabilities\n",
    "Y_probs = nn.forward_propagation(X_trainval)\n",
    "\n",
    "# Range of thresholds to test\n",
    "thresholds = np.linspace(0.0, 1.0, 100)\n",
    "\n",
    "# Store scores for each threshold\n",
    "f1s = []\n",
    "\n",
    "for t in thresholds:\n",
    "    preds = (Y_probs > t).astype(int)\n",
    "    f1s.append(f1_score(y_trainval, preds, zero_division=0))\n",
    "\n",
    "# Plot F1 vs threshold\n",
    "plt.plot(thresholds, f1s, label=\"F1 Score\")\n",
    "plt.xlabel(\"Threshold\")\n",
    "plt.ylabel(\"Score\")\n",
    "plt.title(\"F1 vs Classification Threshold\")\n",
    "plt.legend()\n",
    "plt.grid(True)\n",
    "plt.show()\n",
    "\n",
    "best_idx = np.argmax(f1s)\n",
    "best_threshold = thresholds[best_idx]\n",
    "print(f\"Best F1 Score: {f1s[best_idx]:.4f} at Threshold: {best_threshold:.2f}\")\n"
   ]
  },
  {
   "cell_type": "markdown",
   "id": "2503cbfb",
   "metadata": {},
   "source": [
    "## Retrain \n",
    "\n",
    "Now that we have a better threshold then our default 0.5, we will retrian and evaluate on a threshold of 0.22."
   ]
  },
  {
   "cell_type": "code",
   "execution_count": null,
   "id": "11a1ee8d",
   "metadata": {},
   "outputs": [
    {
     "name": "stdout",
     "output_type": "stream",
     "text": [
      "Accuracy: 0.8926\n",
      "Precision: 0.5173\n",
      "Recall: 0.6932\n",
      "F1 Score: 0.5925\n"
     ]
    }
   ],
   "source": [
    "# Imports\n",
    "import pandas as pd\n",
    "import numpy as np\n",
    "from sklearn.metrics import accuracy_score, precision_score, recall_score, f1_score\n",
    "\n",
    "# Load training/validation data\n",
    "X_trainval = pd.read_csv('../data/cleaned/X_trainval.csv').astype(np.float64).values\n",
    "y_trainval = pd.read_csv('../data/cleaned/y_trainval.csv').astype(np.float64).values.reshape(-1, 1)\n",
    "\n",
    "# Determine input size\n",
    "input_size = X_trainval.shape[1]\n",
    "\n",
    "# Initialize and train neural network\n",
    "nn = NeuralNetwork(input_size=input_size, hidden_size=16, output_size=1, learning_rate=0.1)\n",
    "nn.train(X_trainval, y_trainval, epochs=1000)\n",
    "\n",
    "# Predict on training data\n",
    "y_trainval_pred = nn.predict(X_trainval, threshold = 0.22)\n",
    "\n",
    "# Evaluate \n",
    "accuracy = accuracy_score(y_trainval, y_trainval_pred)\n",
    "precision = precision_score(y_trainval, y_trainval_pred)\n",
    "recall = recall_score(y_trainval, y_trainval_pred)\n",
    "f1 = f1_score(y_trainval, y_trainval_pred)\n",
    "\n",
    "# Print results\n",
    "print(f\"Accuracy: {accuracy:.4f}\")\n",
    "print(f\"Precision: {precision:.4f}\")\n",
    "print(f\"Recall: {recall:.4f}\")\n",
    "print(f\"F1 Score: {f1:.4f}\")\n"
   ]
  },
  {
   "cell_type": "markdown",
   "id": "76ff5e57",
   "metadata": {},
   "source": [
    "## Testing\n",
    "\n",
    "With a better recall lets test this on our sperate unseen test data "
   ]
  },
  {
   "cell_type": "code",
   "execution_count": 80,
   "id": "532d332f",
   "metadata": {},
   "outputs": [
    {
     "name": "stdout",
     "output_type": "stream",
     "text": [
      "Accuracy: 0.8968\n",
      "Precision: 0.5351\n",
      "Recall: 0.6559\n",
      "F1 Score: 0.5894\n"
     ]
    },
    {
     "data": {
      "image/png": "[encoded data removed]",
      "text/plain": [
       "<Figure size 640x480 with 2 Axes>"
      ]
     },
     "metadata": {},
     "output_type": "display_data"
    }
   ],
   "source": [
    "# Imports\n",
    "import pandas as pd\n",
    "import numpy as np\n",
    "from sklearn.metrics import accuracy_score, precision_score, recall_score, f1_score, confusion_matrix, ConfusionMatrixDisplay\n",
    "import matplotlib.pyplot as plt\n",
    "\n",
    "# Load test data\n",
    "X_test = pd.read_csv('../data/cleaned/X_test.csv').astype(np.float64).values\n",
    "y_test = pd.read_csv('../data/cleaned/y_test.csv').astype(np.float64).values.reshape(-1, 1)\n",
    "\n",
    "# Predict using threshold found in previous testing\n",
    "y_test_pred = nn.predict(X_test, threshold=0.22)\n",
    "\n",
    "# Evaluate \n",
    "accuracy = accuracy_score(y_test, y_test_pred)\n",
    "precision = precision_score(y_test, y_test_pred, zero_division=0)\n",
    "recall = recall_score(y_test, y_test_pred, zero_division=0)\n",
    "f1 = f1_score(y_test, y_test_pred, zero_division=0)\n",
    "\n",
    "# Print results\n",
    "print(f\"Accuracy: {accuracy:.4f}\")\n",
    "print(f\"Precision: {precision:.4f}\")\n",
    "print(f\"Recall: {recall:.4f}\")\n",
    "print(f\"F1 Score: {f1:.4f}\")\n",
    "\n",
    "# Confusion matrix\n",
    "cm = confusion_matrix(y_test, y_test_pred)\n",
    "disp = ConfusionMatrixDisplay(confusion_matrix=cm, display_labels=[\"No\", \"Yes\"])\n",
    "disp.plot(cmap=\"Blues\")\n",
    "plt.title(\"Confusion Matrix for Bank Neural Net\")\n",
    "plt.show()\n"
   ]
  },
  {
   "cell_type": "markdown",
   "id": "98d4c7d1",
   "metadata": {},
   "source": [
    "# Neural Network PyTorch Implementation"
   ]
  },
  {
   "cell_type": "markdown",
   "id": "6732c467",
   "metadata": {},
   "source": [
    "## Research into Pytorch Neural Networks\n",
    "\n",
    "| Reference | Why I Used It |\n",
    "|-----------|---------------|\n",
    "| 5. https://pytorch.org/tutorials/beginner/blitz/neural_networks_tutorial.html | Helped me understand how to define a neural network using `nn.Module`, structure layers, and implement the forward pass. |\n",
    "| 6. https://pytorch.org/tutorials/beginner/blitz/autograd_tutorial.html | Explained how PyTorch automatically handles backpropagation using `autograd`, replacing manual gradient calculations. |\n",
    "| 7. https://pytorch.org/docs/stable/nn.html | Essential reference for understanding how to use layers, activation functions, loss functions, and optimizers. |\n"
   ]
  },
  {
   "cell_type": "markdown",
   "id": "c23b1d7c",
   "metadata": {},
   "source": [
    "## References\n",
    "\n",
    "1. Moro, S., Cortez, P., & Rita, P. (2014). *A data-driven approach to predict the success of bank telemarketing*. Decision Support Systems, 62, 22–31.  \n",
    "   Retrieved from https://archive.ics.uci.edu/dataset/222/bank+marketing\n",
    "\n",
    "2. GeeksforGeeks. (n.d.). *One-hot encoding in machine learning*.  \n",
    "   Retrieved from https://www.geeksforgeeks.org/machine-learning/ml-one-hot-encoding/\n",
    "\n",
    "3. GeeksforGeeks. (n.d.). *Weight Initialization Techniques for Deep Neural Networks*.  \n",
    "Retrieved from https://www.geeksforgeeks.org/machine-learning/weight-initialization-techniques-for-deep-neural-networks/\n",
    "\n",
    "4. GeeksforGeeks. (n.d.). *Handling Imbalanced Data for Classification*.  \n",
    "    Retrieved from https://www.geeksforgeeks.org/machine-learning/handling-imbalanced-data-for-classification/\n",
    "\n",
    "5. PyTorch. (n.d.). *Neural Networks Tutorial*.  \n",
    "   Retrieved from https://pytorch.org/tutorials/beginner/blitz/neural_networks_tutorial.html\n",
    "\n",
    "6. PyTorch. (n.d.). *Autograd Tutorial*.  \n",
    "   Retrieved from https://pytorch.org/tutorials/beginner/blitz/autograd_tutorial.html\n",
    "\n",
    "7. PyTorch. (n.d.). *torch.nn — Modules Documentation*.  \n",
    "   Retrieved from https://pytorch.org/docs/stable/nn.html\n"
   ]
  }
 ],
 "metadata": {
  "kernelspec": {
   "display_name": "ml-pytorch",
   "language": "python",
   "name": "python3"
  },
  "language_info": {
   "codemirror_mode": {
    "name": "ipython",
    "version": 3
   },
   "file_extension": ".py",
   "mimetype": "text/x-python",
   "name": "python",
   "nbconvert_exporter": "python",
   "pygments_lexer": "ipython3",
   "version": "3.12.9"
  }
 },
 "nbformat": 4,
 "nbformat_minor": 5
}
