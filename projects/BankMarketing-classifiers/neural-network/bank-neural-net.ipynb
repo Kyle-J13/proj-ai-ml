{
 "cells": [
  {
   "cell_type": "markdown",
   "id": "63fba29b",
   "metadata": {},
   "source": [
    "# Dataset Selection and information\n",
    "\n",
    "I chose to work with the **Bank Marketing dataset** from the UCI Machine Learning Repository.\n",
    "\n",
    "- **Dataset link**: [https://archive.ics.uci.edu/dataset/222/bank+marketing](https://archive.ics.uci.edu/dataset/222/bank+marketing)\n",
    "- **Instances**: 41,188\n",
    "- **Features**: 20 (client demographics, campaign history, and contact attributes)\n",
    "- **Target**: Binary classification  \n",
    "  - `yes` = client subscribed to a term deposit  \n",
    "  - `no` = client did not subscribe\n"
   ]
  }
 ],
 "metadata": {
  "language_info": {
   "name": "python"
  }
 },
 "nbformat": 4,
 "nbformat_minor": 5
}
